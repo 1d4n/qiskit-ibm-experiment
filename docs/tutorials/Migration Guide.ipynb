{
 "cells": [
  {
   "cell_type": "markdown",
   "metadata": {},
   "source": [
    "# Experiment service migration guide\n",
    "\n",
    "`qiskit-ibm-experiment` aims to replace the experiment database service that was included as part of the deprecated `qiskit-ibmq-provider` package. There interface for the service in both packages is similar, with two key differences:\n",
    "1. `qiskit-ibm-experiment` methods get and return dataclass parameters, instead receiving separate values and returning dictionaries.\n",
    "2. `qiskit-ibm-experiment` does not automatically generate the experiment service as part of a larger provider; the experiment service needs to be manually created.\n",
    "\n",
    "In this guide we cover those differences."
   ]
  },
  {
   "cell_type": "markdown",
   "metadata": {},
   "source": [
    "## Quick start example: old usage vs new usage"
   ]
  },
  {
   "cell_type": "markdown",
   "metadata": {},
   "source": [
    "### Old usage:\n",
    "This code works when the `qiskit-terra` and `qiskit-ibmq-provider` packages are installed and credentials for using IBMQ are already locally stored on the computer."
   ]
  },
  {
   "cell_type": "code",
   "execution_count": 2,
   "metadata": {},
   "outputs": [
    {
     "name": "stdout",
     "output_type": "stream",
     "text": [
      "url https://auth.quantum-computing.ibm.com/api/version\n",
      "headers {'User-Agent': 'python-requests/2.26.0', 'Accept-Encoding': 'gzip, deflate', 'Accept': '*/*', 'Connection': 'keep-alive', 'X-Qx-Client-Application': 'qiskit-ibmq-provider,qiskit-terra,qiskit-aer,qiskit-ignis/0.19.2,0.20.2,0.8.2,0.6.0'}\n",
      "verify None\n",
      "cert None\n",
      "sending request...  {'timeout': (5.0, None), 'allow_redirects': True, 'verify': True, 'proxies': OrderedDict(), 'stream': False, 'cert': None}\n",
      "url https://auth.quantum-computing.ibm.com/api/users/loginWithToken\n",
      "headers {'User-Agent': 'python-requests/2.26.0', 'Accept-Encoding': 'gzip, deflate', 'Accept': '*/*', 'Connection': 'keep-alive', 'X-Qx-Client-Application': 'qiskit-ibmq-provider,qiskit-terra,qiskit-aer,qiskit-ignis/0.19.2,0.20.2,0.8.2,0.6.0'}\n",
      "verify None\n",
      "cert None\n",
      "sending request...  {'timeout': (5.0, None), 'allow_redirects': True, 'verify': True, 'proxies': OrderedDict(), 'stream': False, 'cert': None}\n",
      "url https://auth.quantum-computing.ibm.com/api/users/me\n",
      "headers {'User-Agent': 'python-requests/2.26.0', 'Accept-Encoding': 'gzip, deflate', 'Accept': '*/*', 'Connection': 'keep-alive', 'X-Qx-Client-Application': 'qiskit-ibmq-provider,qiskit-terra,qiskit-aer,qiskit-ignis/0.19.2,0.20.2,0.8.2,0.6.0', 'X-Access-Token': '0c34ohuKteHQZmYHyE8CCnMIdtnAGl5aPuC95qscECMcDbIx1MOJW6wKS8IwUbGN'}\n",
      "verify None\n",
      "cert None\n",
      "sending request...  {'timeout': (5.0, None), 'allow_redirects': True, 'verify': True, 'proxies': OrderedDict(), 'stream': False, 'cert': None}\n",
      "url https://api-qcon.quantum-computing.ibm.com/api/Network\n",
      "headers {'User-Agent': 'python-requests/2.26.0', 'Accept-Encoding': 'gzip, deflate', 'Accept': '*/*', 'Connection': 'keep-alive', 'X-Access-Token': '0c34ohuKteHQZmYHyE8CCnMIdtnAGl5aPuC95qscECMcDbIx1MOJW6wKS8IwUbGN', 'X-Qx-Client-Application': 'qiskit-ibmq-provider,qiskit-terra,qiskit-aer,qiskit-ignis/0.19.2,0.20.2,0.8.2,0.6.0'}\n",
      "verify None\n",
      "cert None\n",
      "sending request...  {'timeout': (5.0, None), 'allow_redirects': True, 'verify': True, 'proxies': OrderedDict(), 'stream': False, 'cert': None}\n",
      "url https://api-qcon.quantum-computing.ibm.com/api/Network/ibm-q/Groups/open/Projects/main/devices/v/1\n",
      "headers {'User-Agent': 'python-requests/2.26.0', 'Accept-Encoding': 'gzip, deflate', 'Accept': '*/*', 'Connection': 'keep-alive', 'X-Access-Token': '0c34ohuKteHQZmYHyE8CCnMIdtnAGl5aPuC95qscECMcDbIx1MOJW6wKS8IwUbGN', 'X-Qx-Client-Application': 'qiskit-ibmq-provider,qiskit-terra,qiskit-aer,qiskit-ignis/0.19.2,0.20.2,0.8.2,0.6.0'}\n",
      "verify None\n",
      "cert None\n",
      "sending request...  {'timeout': None, 'allow_redirects': True, 'verify': True, 'proxies': OrderedDict(), 'stream': False, 'cert': None}\n",
      "url https://api-qcon.quantum-computing.ibm.com/api/Network/ibm-q-internal/Groups/deployed/Projects/default/devices/v/1\n",
      "headers {'User-Agent': 'python-requests/2.26.0', 'Accept-Encoding': 'gzip, deflate', 'Accept': '*/*', 'Connection': 'keep-alive', 'X-Access-Token': '0c34ohuKteHQZmYHyE8CCnMIdtnAGl5aPuC95qscECMcDbIx1MOJW6wKS8IwUbGN', 'X-Qx-Client-Application': 'qiskit-ibmq-provider,qiskit-terra,qiskit-aer,qiskit-ignis/0.19.2,0.20.2,0.8.2,0.6.0'}\n",
      "verify None\n",
      "cert None\n",
      "sending request...  {'timeout': None, 'allow_redirects': True, 'verify': True, 'proxies': OrderedDict(), 'stream': False, 'cert': None}\n",
      "url https://api-qcon.quantum-computing.ibm.com/api/Network/ibm-q-internal/Groups/labgroup/Projects/default/devices/v/1\n",
      "headers {'User-Agent': 'python-requests/2.26.0', 'Accept-Encoding': 'gzip, deflate', 'Accept': '*/*', 'Connection': 'keep-alive', 'X-Access-Token': '0c34ohuKteHQZmYHyE8CCnMIdtnAGl5aPuC95qscECMcDbIx1MOJW6wKS8IwUbGN', 'X-Qx-Client-Application': 'qiskit-ibmq-provider,qiskit-terra,qiskit-aer,qiskit-ignis/0.19.2,0.20.2,0.8.2,0.6.0'}\n",
      "verify None\n",
      "cert None\n",
      "sending request...  {'timeout': None, 'allow_redirects': True, 'verify': True, 'proxies': OrderedDict(), 'stream': False, 'cert': None}\n",
      "getting url /experiments/5524b504-2f59-11ed-a7c7-bc97e15b08d0\n",
      "url https://resultsdb.quantum-computing.ibm.com/experiments/5524b504-2f59-11ed-a7c7-bc97e15b08d0\n",
      "headers {'User-Agent': 'python-requests/2.26.0', 'Accept-Encoding': 'gzip, deflate', 'Accept': '*/*', 'Connection': 'keep-alive', 'X-Access-Token': '0c34ohuKteHQZmYHyE8CCnMIdtnAGl5aPuC95qscECMcDbIx1MOJW6wKS8IwUbGN', 'X-Qx-Client-Application': 'qiskit-ibmq-provider,qiskit-terra,qiskit-aer,qiskit-ignis/0.19.2,0.20.2,0.8.2,0.6.0'}\n",
      "verify None\n",
      "cert None\n",
      "sending request...  {'timeout': (5.0, None), 'allow_redirects': True, 'verify': True, 'proxies': OrderedDict(), 'stream': False, 'cert': None}\n",
      "2022-09-08 12:35:14.997000+03:00\n",
      "labuser_test\n"
     ]
    }
   ],
   "source": [
    "from qiskit import IBMQ\n",
    "provider = IBMQ.load_account()\n",
    "service = provider.experiment\n",
    "experiment_data = service.experiment(experiment_id = '5524b504-2f59-11ed-a7c7-bc97e15b08d0')\n",
    "print(experiment_data['creation_datetime'])\n",
    "print(experiment_data['metadata']['user'])"
   ]
  },
  {
   "cell_type": "markdown",
   "metadata": {},
   "source": [
    "### New usage:\n",
    "This code works when the `qiskit-ibm-experiment` package is installed and credentials for using IBMQ are already locally stored on the computer."
   ]
  },
  {
   "cell_type": "code",
   "execution_count": 2,
   "metadata": {},
   "outputs": [
    {
     "name": "stdout",
     "output_type": "stream",
     "text": [
      "url https://auth.quantum-computing.ibm.com/api/users/loginWithToken\n",
      "headers {'accept': 'application/json', 'Content-Type': 'application/json'}\n",
      "verify None\n",
      "cert None\n",
      "sending request...  {'timeout': None, 'allow_redirects': True, 'verify': True, 'proxies': OrderedDict(), 'stream': False, 'cert': None}\n",
      "url https://auth.quantum-computing.ibm.com/api/users/me\n",
      "headers {'accept': 'application/json', 'Content-Type': 'application/json', 'X-Access-Token': 'jkNm5fIB3yE9GTd8pkeJZzASyOLE34v4ZR3cF1rgQl9crNPZjmtKdleRilPEWxte'}\n",
      "verify None\n",
      "cert None\n",
      "sending request...  {'timeout': None, 'allow_redirects': True, 'verify': True, 'proxies': OrderedDict(), 'stream': False, 'cert': None}\n",
      "url https://resultsdb.quantum-computing.ibm.com/experiments/5524b504-2f59-11ed-a7c7-bc97e15b08d0\n",
      "headers {'User-Agent': 'python-requests/2.26.0', 'Accept-Encoding': 'gzip, deflate', 'Accept': '*/*', 'Connection': 'keep-alive', 'X-Access-Token': 'jkNm5fIB3yE9GTd8pkeJZzASyOLE34v4ZR3cF1rgQl9crNPZjmtKdleRilPEWxte', 'X-Qx-Client-Application': 'qiskit-ibm-experiment,qiskit-terra,qiskit-aer,qiskit-ignis/0.2.6,0.20.2,0.8.2,0.6.0'}\n",
      "verify None\n",
      "cert None\n",
      "sending request...  {'timeout': (10.0, None), 'allow_redirects': True, 'verify': True, 'proxies': OrderedDict(), 'stream': False, 'cert': None}\n",
      "2022-09-08 12:35:14.997000+03:00\n",
      "labuser_test\n"
     ]
    }
   ],
   "source": [
    "from qiskit_ibm_experiment import IBMExperimentService\n",
    "service = IBMExperimentService()\n",
    "experiment_data = service.experiment(experiment_id = '5524b504-2f59-11ed-a7c7-bc97e15b08d0')\n",
    "print(experiment_data.creation_datetime)\n",
    "print(experiment_data.metadata['user'])"
   ]
  },
  {
   "cell_type": "code",
   "execution_count": 4,
   "metadata": {},
   "outputs": [],
   "source": []
  },
  {
   "cell_type": "code",
   "execution_count": null,
   "metadata": {},
   "outputs": [],
   "source": [
    "\"https://resultsdb.quantum-computing.ibm.com/experiments/5524b504-2f59-11ed-a7c7-bc97e15b08d0\""
   ]
  }
 ],
 "metadata": {
  "kernelspec": {
   "display_name": "qiskit37",
   "language": "python",
   "name": "qiskit37"
  },
  "language_info": {
   "codemirror_mode": {
    "name": "ipython",
    "version": 3
   },
   "file_extension": ".py",
   "mimetype": "text/x-python",
   "name": "python",
   "nbconvert_exporter": "python",
   "pygments_lexer": "ipython3",
   "version": "3.7.10"
  }
 },
 "nbformat": 4,
 "nbformat_minor": 4
}
