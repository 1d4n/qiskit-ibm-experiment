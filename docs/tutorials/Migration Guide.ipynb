{
 "cells": [
  {
   "cell_type": "markdown",
   "metadata": {},
   "source": [
    "# Experiment service migration guide\n",
    "\n",
    "`qiskit-ibm-experiment` aims to replace the experiment database service that was included as part of the deprecated `qiskit-ibmq-provider` package. There interface for the service in both packages is similar, with two key differences:\n",
    "1. `qiskit-ibm-experiment` methods get and return dataclass parameters, instead receiving separate values and returning dictionaries.\n",
    "2. `qiskit-ibm-experiment` does not automatically generate the experiment service as part of a larger provider; the experiment service needs to be manually created.\n",
    "\n",
    "In this guide we cover those differences."
   ]
  },
  {
   "cell_type": "markdown",
   "metadata": {},
   "source": [
    "## Quick start example: old usage vs new usage"
   ]
  },
  {
   "cell_type": "markdown",
   "metadata": {},
   "source": [
    "### Old usage:\n",
    "This code works when the `qiskit-terra` and `qiskit-ibmq-provider` packages are installed and credentials for using IBMQ are already locally stored on the computer."
   ]
  },
  {
   "cell_type": "code",
   "execution_count": 4,
   "metadata": {},
   "outputs": [
    {
     "name": "stdout",
     "output_type": "stream",
     "text": [
      "2022-09-08 12:35:14.997000+03:00\n",
      "labuser_test\n"
     ]
    }
   ],
   "source": [
    "from qiskit import IBMQ\n",
    "provider = IBMQ.load_account()\n",
    "service = provider.experiment\n",
    "experiment_data = service.experiment(experiment_id = '5524b504-2f59-11ed-a7c7-bc97e15b08d0')\n",
    "print(experiment_data['creation_datetime'])\n",
    "print(experiment_data['metadata']['user'])"
   ]
  },
  {
   "cell_type": "markdown",
   "metadata": {},
   "source": [
    "### New usage:\n",
    "This code works when the `qiskit-ibm-experiment` package is installed and credentials for using IBMQ are already locally stored on the computer."
   ]
  },
  {
   "cell_type": "code",
   "execution_count": 5,
   "metadata": {},
   "outputs": [
    {
     "name": "stderr",
     "output_type": "stream",
     "text": [
      "C:\\Users\\GADIALEKSANDROWICZ\\Anaconda3\\envs\\qiskit37\\lib\\site-packages\\urllib3\\connectionpool.py:1020: InsecureRequestWarning: Unverified HTTPS request is being made to host 'resultsdb.quantum-computing.ibm.com'. Adding certificate verification is strongly advised. See: https://urllib3.readthedocs.io/en/1.26.x/advanced-usage.html#ssl-warnings\n",
      "  InsecureRequestWarning,\n"
     ]
    },
    {
     "name": "stdout",
     "output_type": "stream",
     "text": [
      "2022-09-08 12:35:14.997000+03:00\n",
      "labuser_test\n"
     ]
    }
   ],
   "source": [
    "from qiskit_ibm_experiment import IBMExperimentService\n",
    "service = IBMExperimentService()\n",
    "experiment_data = service.experiment(experiment_id = '5524b504-2f59-11ed-a7c7-bc97e15b08d0')\n",
    "print(experiment_data.creation_datetime)\n",
    "print(experiment_data.metadata['user'])"
   ]
  },
  {
   "cell_type": "code",
   "execution_count": 3,
   "metadata": {},
   "outputs": [],
   "source": []
  }
 ],
 "metadata": {
  "kernelspec": {
   "display_name": "qiskit37",
   "language": "python",
   "name": "qiskit37"
  },
  "language_info": {
   "codemirror_mode": {
    "name": "ipython",
    "version": 3
   },
   "file_extension": ".py",
   "mimetype": "text/x-python",
   "name": "python",
   "nbconvert_exporter": "python",
   "pygments_lexer": "ipython3",
   "version": "3.7.10"
  }
 },
 "nbformat": 4,
 "nbformat_minor": 4
}
